{
 "cells": [
  {
   "cell_type": "markdown",
   "id": "d25f37b1",
   "metadata": {},
   "source": [
    "## HDNum"
   ]
  },
  {
   "cell_type": "markdown",
   "id": "d2bd4ade",
   "metadata": {},
   "source": [
    "[](https://xeus-cling.readthedocs.io)\n",
    "[](https://github.com/jupyter-xeus/xeus-cling/issues/87)"
   ]
  },
  {
   "cell_type": "markdown",
   "id": "aeea318f",
   "metadata": {},
   "source": [
    "```cpp\n",
    "#pragma cling add_include_path(\"inc_directory\")\n",
    "#pragma cling add_library_path(\"lib_directory\")\n",
    "#pragma cling load(\"libname\")\n",
    "```\n",
    "\n",
    "```\n",
    "CC = clang++\n",
    "CCFLAGS = -I$(HDNUMPATH) -std=c++11 -O3\n",
    "GMPCCFLAGS = -DHDNUM_HAS_GMP=1 -I/usr/include\n",
    "LFLAGS = -lm\n",
    "GMPLFLAGS = -L/usr/lib -lgmpxx -lgmp\n",
    "```"
   ]
  },
  {
   "cell_type": "code",
   "execution_count": 1,
   "id": "1af8aba9",
   "metadata": {},
   "outputs": [],
   "source": [
    "#pragma cling add_include_path(\"../hdnum.hh\")"
   ]
  },
  {
   "cell_type": "code",
   "execution_count": 2,
   "id": "cb52d71a",
   "metadata": {},
   "outputs": [],
   "source": [
    "#include \"../hdnum.hh\"    // hdnum header"
   ]
  },
  {
   "cell_type": "markdown",
   "id": "02ca70bf",
   "metadata": {},
   "source": [
    "Exercise $1.1$ Working with the $\\mathrm{C}++$ compiler\n",
    "\n",
    "Take some time to get familiar with the compiler output. The output for errors and warnings is structured as follows:\n",
    "```\n",
    "[file]:[line]:[position]: [type]: [description of the error or warning]\n",
    "```\n",
    "The output of all warnings can be activated bei adding `-Wall` (Warnings all) to the compiler call:\n",
    "```\n",
    ">> g++ -Wall wrong.cc -o wrong\n",
    "```\n",
    "Fix all errors and warnings in the file `wrong.cc`. The file should compile without errors or warnings"
   ]
  },
  {
   "cell_type": "code",
   "execution_count": 3,
   "id": "c23081a4",
   "metadata": {},
   "outputs": [
    {
     "name": "stdout",
     "output_type": "stream",
     "text": [
      "#include <iostream>\n",
      "\n",
      "namespace local\n",
      "{\n",
      "  int answer() { int answer = 42; return; }\n",
      "}\n",
      "\n",
      "main()\n",
      "{\n",
      "  int dummy = 0;\n",
      "\n",
      "  double a; a = 1.0;\n",
      "  double const b; b = 2.0;\n",
      "  double c = a * b;\n",
      "\n",
      "  std::cout << \"The answer is: \" << answer() << \"\\n\";\n",
      "  std::cout << \"a = \" << a << \\n;\n",
      "  std::cout << \"b = \" < b << \"\\n\"\n",
      "  std::cout << \"a * b =  << c << \"\\n\";\n",
      "    \n",
      "} // main\n"
     ]
    }
   ],
   "source": [
    "!cat wrong.cc"
   ]
  },
  {
   "cell_type": "code",
   "execution_count": 5,
   "id": "1224250c",
   "metadata": {},
   "outputs": [
    {
     "name": "stdout",
     "output_type": "stream",
     "text": [
      "#include <iostream>\n",
      "\n",
      "//namespace local\n",
      "\n",
      "int answer()\n",
      "{\n",
      "  int answer = 42;\n",
      "  return answer;\n",
      "}\n",
      "\n",
      "int main()\n",
      "{\n",
      "  //  int dummy = 0;\n",
      "\n",
      "  double a = 1.0;\n",
      "  double const b = 2.0;\n",
      "  double c = a * b;\n",
      "\n",
      "  std::cout << \"The answer is: \" << answer() << \"\\n\";\n",
      "  std::cout << \"a = \" << a << \"\\n\";\n",
      "  std::cout << \"b = \" << b << \"\\n\";\n",
      "  std::cout << \"a * b = \" << c << \"\\n\";\n",
      "\n",
      "  return 0;\n",
      "} // main\n"
     ]
    }
   ],
   "source": [
    "!cat good.cc"
   ]
  },
  {
   "cell_type": "markdown",
   "id": "0451e624",
   "metadata": {},
   "source": [
    "Exercise $1.2$ Factorial\n",
    "Write a program `factorial.cc`, that computes computes for an input `int n` the factorial\n",
    "$$\n",
    "n!=n\\cdot\\left(n-1\\right)\\cdot\\dotsc 1\n",
    "$$\n",
    "The following commands will compile and run the file.\n",
    "```\n",
    ">> g++ factorial.cc -o factorial\n",
    ">>./factorial\n",
    "```\n",
    "Test your program for different values of `int n`. What do you notice? change your program for, such that it uses only unsigned int and test your program again."
   ]
  },
  {
   "cell_type": "code",
   "execution_count": 6,
   "id": "58977e6e",
   "metadata": {},
   "outputs": [
    {
     "name": "stdout",
     "output_type": "stream",
     "text": [
      "#include <iostream>\n",
      "#include <gmpxx.h>\n",
      "\n",
      "int factorial(unsigned int number)\n",
      "{\n",
      "  if (number == 0)\n",
      "    return 1;\n",
      "  else\n",
      "    return number * factorial(number - 1);\n",
      "}\n",
      "\n",
      "int main(int argc, char **argv)\n",
      "{\n",
      "  mpf_set_default_prec(4096);\n",
      "\n",
      "  unsigned long long number;\n",
      "  std::cout << \"Ingrese el número n: \";\n",
      "  std::cin >> number;\n",
      "\n",
      "  std::cout << \"n! es \" << factorial(number) << \".\"\n",
      "            << \"\\n\";\n",
      "\n",
      "  return 0;\n",
      "}\n"
     ]
    }
   ],
   "source": [
    "!cat factorial.cc"
   ]
  },
  {
   "cell_type": "markdown",
   "id": "577b1fa4",
   "metadata": {},
   "source": [
    "Exercise 1.3 Euler's Constant\n",
    "Euler's constant is defined by the infinite sum\n",
    "$$\n",
    "e=\\sum_{k=0}^{\\infty}\\frac{1}{k!}=2.718281828459045\\ldots\n",
    "$$\n",
    "This formula allows us to compute the value of $e$ to arbitrary precision. Using $e_{n}:=\\sum_{k=0}^{n} \\frac{1}{k !}$ we can compute the precision with $e_{n}-e_{n-1}$.\n",
    "\n",
    "Write a program/function, that computes the approximation of $e$ for a given integer $n$ and print that number on the screen. Make sure to efficiently compute the values of $k !$ by using the previous value.\n",
    "a. Compute $e_{n}$ for $n=5,10,20$, by summing upwards $(k=0,1,2, \\ldots)$ resp. downwards $(k=$ $n, n-1, n-2, \\ldots)$. Compare the results and precision. Make sure to use the right data types\n",
    "\n",
    "b. Change your program/function, such that the computations can also be done with float and compare the results. Furthermore, compute the error to `std::exp(1.0)` from the standard library `<cmath>`.\n",
    "\n",
    "c. Optional: Write a program/function, that approximates $e$ to a given precision tol."
   ]
  },
  {
   "cell_type": "code",
   "execution_count": 8,
   "id": "b16b8b22",
   "metadata": {},
   "outputs": [
    {
     "name": "stdout",
     "output_type": "stream",
     "text": [
      "#include <iostream>\n",
      "\n",
      "int factorial(unsigned int number)\n",
      "{\n",
      "  if (number == 0)\n",
      "    return 1;\n",
      "  else\n",
      "    return number * factorial(number - 1);\n",
      "}\n",
      "\n",
      "\n",
      "double euler(unsigned int n)\n",
      "{\n",
      "  float summation = 0;\n",
      "  for(int k = 0; k < n; k++)\n",
      "    summation += 1 / factorial(n);\n",
      "\n",
      "  return summation;\n",
      "}\n",
      "\n",
      "int main(int argc, char** argv)\n",
      "{\n",
      "  unsigned int n;\n",
      "  std::cout << \"Por favor ingrese el valor de n: \";\n",
      "  std::cin >> n;\n",
      "\n",
      "  std::cout << \"El valor de $e_n$ es \" << euler(n) << std::endl;\n",
      "\n",
      "  return 0;\n",
      "}\n",
      "//Turek\n"
     ]
    }
   ],
   "source": [
    "!cat euler.cc"
   ]
  },
  {
   "cell_type": "markdown",
   "id": "a236801a",
   "metadata": {},
   "source": [
    "Bonus Problem 1.4 [Binomial coefficient]\n",
    "\n",
    "Write a program `binomial.cc`, that computes for specific inputs $k,n\\in\\mathbb{N}$ the binomial coefficient\n",
    "$$\n",
    "\\binom{n}{k}=\\frac{n!}{k!\\left(n-k\\right)!}\n",
    "$$\n",
    "Use the data types `unsigned int` and treat possible exceptional cases $(k>n)$? with `if` conditions. Test your program intensively.\n",
    "The allowed range for $n,k\\in\\mathbb{N}$ can be extended by not using all factorials:\n",
    "$$\n",
    "\\binom{n}{k}=\\frac{n!}{k!(n-k)!}=\\frac{n\\cdot(n-1)\\cdot\\ldots\\cdot(n-k+1)}{k!}\n",
    "$$\n",
    "Furthermore, the efficiency can be enhanced by exchanging $k$ with $\\min (k, n-k)$, due to the symmetry of the binomial coefficient.\n",
    "Use the above aspects to improve your program and compare your results with the first version.\n",
    "Optional: Compute the binomial coefficient for $n, k \\in \\mathbb{N}$ using the product\n",
    "$$\n",
    "\\binom{n}{k}=\\prod_{j=1}^{k}\\frac{n+1-j}{j}\n",
    "$$\n",
    "This product can be implemented using a loop that switches between multiplication and division, **without** a division reminder. Why?"
   ]
  },
  {
   "cell_type": "markdown",
   "id": "86833ffe",
   "metadata": {},
   "source": [
    "Bonus Problem $1.5$ [Greatest common divisor]\n",
    "To compute the greatest common divisor (gcd) of two numbers, the euclidian algorithm can be used:\n",
    "Start by dividing the bigger by the smaller number. After that divide the smaller number by the remainder until the remainder is zero. The last divisor is the gcd. If the remainder is 1 both numbers don't have a common divisor.\n",
    "The following example illustrates this algorithm with the numbers 13575 and 345 :\n",
    "Start by dividing the bigger by the smaller number. After that divide the smaller number by the remainder until the remainder is zero. The last divisor is the gcd. If the remainder is 1 both numbers don't have a common divisor.\n",
    "The following example illustrates this algorithm with the numbers 13575 and 345 :\n",
    "\n",
    "Implement this algorithm for two positive integers in $\\mathrm{C}++$ and test it on some examples.\n",
    "(a) Implement the function\n",
    "- `unsigned int gcD(unsigned int, unsigned int)`. Use the `%`Operator for divisions with remainder.\n",
    "(b) Write a `main`-method, that tests your function on the given example. Output the solution to the terminal."
   ]
  },
  {
   "cell_type": "markdown",
   "id": "3d42d1e7",
   "metadata": {},
   "source": [
    "Bonus Problem $1.6$ Bisection algorithm\n",
    "The bisection algorithm is used to find the root of a continuous function $f\\colon\\mathbb{R}\\to\\mathbb{R}$ in the interval $\\left[a,b\\right]\\subset\\mathbb{R}$. It works as follows:\n",
    "\n",
    "If $f\\left(a\\right)$ and $f\\left(b\\right)$ have different signs there exists a root in $\\left[a,b\\right]$. If you seperate the interval into two equal parts $\\left[a,m\\right]$ and $\\left[m,b\\right]$ by using $m=\\frac{a+b}{2}$, the root has to be in one of the two intervals. If $f\\left(m\\right)=0$ we have found the root. Otherwise we have to check for the signs again. If $f(a) \\cdot f(m)<0$ we set $b=m$ and start from the beginning. Otherwise if $f(b)\\cdot f(m)<0$ we set $a=m$ and start from the beginning.\n",
    "Write a program that consist of the following parts\n",
    "- a function $f$, for computing the value $f(x)=e^{\\sin (x)}-0.5$\n",
    "- a function bisec, for Finding the root of $f(x)$ on an interval given by $a$ and $b$ using the described algorithm\n",
    "- a main-method."
   ]
  },
  {
   "cell_type": "code",
   "execution_count": 10,
   "id": "f63df23b",
   "metadata": {},
   "outputs": [
    {
     "name": "stdout",
     "output_type": "stream",
     "text": [
      "// C++ program for implementation of Bisection Method for \n",
      "// solving equations \n",
      "#include <bits/stdc++.h>\n",
      "\n",
      "#define EPSILON 0.01 \n",
      "  \n",
      "// An example function whose solution is determined using \n",
      "// Bisection Method. The function is x^3 - x^2  + 2 \n",
      "double func(double x) \n",
      "{ \n",
      "    return x*x*x - x*x + 2; \n",
      "} \n",
      "  \n",
      "// Prints root of func(x) with error of EPSILON \n",
      "void bisection(double a, double b) \n",
      "{ \n",
      "    if (func(a) * func(b) >= 0) \n",
      "    { \n",
      "        std::cout << \"You have not assumed right a and b\\n\"; \n",
      "        return; \n",
      "    } \n",
      "  \n",
      "    double c = a; \n",
      "    while ((b-a) >= EPSILON) \n",
      "    { \n",
      "        // Find middle point \n",
      "        c = (a+b)/2; \n",
      "  \n",
      "        // Check if middle point is root \n",
      "        if (func(c) == 0.0) \n",
      "            break; \n",
      "  \n",
      "        // Decide the side to repeat the steps \n",
      "        else if (func(c)*func(a) < 0) \n",
      "            b = c; \n",
      "        else\n",
      "            a = c; \n",
      "    } \n",
      "    std::cout << \"The value of root is : \" << c; \n",
      "} \n",
      "  \n",
      "// Driver program to test above function \n",
      "int main() \n",
      "{ \n",
      "    // Initial values assumed \n",
      "    double a =-200, b = 300; \n",
      "    bisection(a, b); \n",
      "    return 0; \n",
      "}"
     ]
    }
   ],
   "source": [
    "!cat bisection.cc"
   ]
  },
  {
   "cell_type": "markdown",
   "id": "c68c3275",
   "metadata": {},
   "source": [
    "The (iterative) implementation should terminate if\n",
    "- a maximal number of iterations max_iter has been reached\n",
    "- for the given tolerance tol, $f(m)<$ tol holds\n",
    "Print the values for $a$ and $b$ in every iteration to the terminal. Test your program with the accuracy tol $=10^{-6}$ for the interval $I:=[-1,1]$ and verify your results.\n",
    "\n",
    "Afterwards change your functon $f$ and determine the roots of the following functions on the same interval\n",
    "- $f(x)=\\frac{1}{\\sqrt{x^{2}+1}}-\\cos (x+1)$\n",
    "- $f(x)=\\sin (\\cos (x+1))$\n",
    "- $f(x)=\\arctan \\left(x^{2}+2 x\\right)-0.2$,\n",
    "- $f(x)=x^{2}+1$."
   ]
  },
  {
   "cell_type": "code",
   "execution_count": 8,
   "id": "d5b50f1e",
   "metadata": {},
   "outputs": [],
   "source": [
    "hdnum::Vector<float> y(10, 1);"
   ]
  },
  {
   "cell_type": "code",
   "execution_count": 9,
   "id": "22164f4a",
   "metadata": {},
   "outputs": [
    {
     "name": "stdout",
     "output_type": "stream",
     "text": [
      "\n",
      "[ 0]  1.0000000e+00\n",
      "[ 1]  1.0000000e+00\n",
      "[ 2]  1.0000000e+00\n",
      "[ 3]  1.0000000e+00\n",
      "[ 4]  1.0000000e+00\n",
      "[ 5]  1.0000000e+00\n",
      "[ 6]  1.0000000e+00\n",
      "[ 7]  1.0000000e+00\n",
      "[ 8]  1.0000000e+00\n",
      "[ 9]  1.0000000e+00\n",
      "\n"
     ]
    }
   ],
   "source": [
    "std::cout << y << std::endl;"
   ]
  },
  {
   "cell_type": "code",
   "execution_count": 10,
   "id": "928ef8a5",
   "metadata": {},
   "outputs": [],
   "source": [
    "#include <string>"
   ]
  },
  {
   "cell_type": "code",
   "execution_count": 11,
   "id": "2d6d2027",
   "metadata": {},
   "outputs": [],
   "source": [
    "std::string nombre = \"HDNum\";"
   ]
  },
  {
   "cell_type": "code",
   "execution_count": 12,
   "id": "c73271df",
   "metadata": {},
   "outputs": [
    {
     "name": "stdout",
     "output_type": "stream",
     "text": [
      "HDNum\n"
     ]
    }
   ],
   "source": [
    "std::cout << nombre << \"\\n\";"
   ]
  },
  {
   "cell_type": "markdown",
   "id": "eab8729e",
   "metadata": {},
   "source": [
    "$\\int$"
   ]
  },
  {
   "cell_type": "markdown",
   "id": "44351e01",
   "metadata": {},
   "source": []
  },
  {
   "cell_type": "code",
   "execution_count": null,
   "id": "8342939b",
   "metadata": {},
   "outputs": [],
   "source": []
  }
 ],
 "metadata": {
  "kernelspec": {
   "display_name": "C++11 (xeus)",
   "language": "C++11",
   "name": "xcpp11"
  },
  "language_info": {
   "codemirror_mode": "text/x-c++src",
   "file_extension": ".cpp",
   "mimetype": "text/x-c++src",
   "name": "c++",
   "version": "11"
  }
 },
 "nbformat": 4,
 "nbformat_minor": 5
}
